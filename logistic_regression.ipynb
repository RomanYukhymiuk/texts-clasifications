{
  "nbformat": 4,
  "nbformat_minor": 0,
  "metadata": {
    "colab": {
      "name": "Юхимюк_Л4.ipynb",
      "provenance": []
    },
    "kernelspec": {
      "name": "python3",
      "display_name": "Python 3"
    },
    "language_info": {
      "name": "python"
    }
  },
  "cells": [
    {
      "cell_type": "markdown",
      "metadata": {
        "id": "q9AcCOcjWLtw"
      },
      "source": [
        "Юхимюк Роман"
      ]
    },
    {
      "cell_type": "code",
      "metadata": {
        "id": "OOWxBTDeCSmx"
      },
      "source": [
        "import gensim.models as gm\n",
        "import pandas as pd\n",
        "import string\n",
        "import spacy\n",
        "from nltk.stem.snowball import SnowballStemmer\n",
        "from sklearn.linear_model import LogisticRegression\n",
        "import numpy as np\n",
        "from sklearn.model_selection import train_test_split\n",
        "import tensorflow_hub as hub\n",
        "from sklearn.metrics import recall_score, accuracy_score, matthews_corrcoef, precision_score\n",
        "from sklearn.metrics import classification_report, confusion_matrix"
      ],
      "execution_count": 69,
      "outputs": []
    },
    {
      "cell_type": "markdown",
      "metadata": {
        "id": "_ZN-kMxcWRm5"
      },
      "source": [
        "ПІДГОТОВКА"
      ]
    },
    {
      "cell_type": "code",
      "metadata": {
        "id": "fgYXnlQgCkGE"
      },
      "source": [
        "nlp = spacy.load('en_core_web_sm')\n",
        "spacy_stopwords = spacy.lang.en.stop_words.STOP_WORDS\n",
        "stemmer = SnowballStemmer(language='english')"
      ],
      "execution_count": 2,
      "outputs": []
    },
    {
      "cell_type": "code",
      "metadata": {
        "id": "WYnJrU15Cnks"
      },
      "source": [
        "#=================================================\n",
        "# 1\n",
        "def delete_non_literal(txt):\n",
        "    ascii = (string.ascii_letters + \" \")\n",
        "    data1 = (c for c in txt if c in ascii)\n",
        "    txt1 = \"\".join(data1)\n",
        "    return ' '.join(txt1.split())\n",
        "\n",
        "\n",
        "# 2\n",
        "def tokenization(txt):\n",
        "    return [str(tok) for tok in txt]\n",
        "\n",
        "\n",
        "# 3\n",
        "def delete_stopwords(tokenn):\n",
        "    return [tok for tok in tokenn if not tok in spacy_stopwords]\n",
        "\n",
        "\n",
        "# 4\n",
        "def case_change(tokenn):\n",
        "    return [tok.lower() for tok in tokenn]\n",
        "\n",
        "\n",
        "# 5\n",
        "def stemming(tokenn):\n",
        "    return [stemmer.stem(tok) for tok in tokenn]\n",
        "\n",
        "\n",
        "# 6\n",
        "def lemmatization(txt):\n",
        "    return [tok.lemma_ for tok in txt]\n",
        "\n",
        "\n",
        "def all(txt):\n",
        "    x = nlp(delete_non_literal(txt))\n",
        "    a = tokenization(x)\n",
        "    b = delete_stopwords(case_change(a))\n",
        "    c = lemmatization(nlp(' '.join(b)))\n",
        "    return stemming(c)\n",
        "#==================================="
      ],
      "execution_count": 3,
      "outputs": []
    },
    {
      "cell_type": "markdown",
      "metadata": {
        "id": "XeQDuakgWUna"
      },
      "source": [
        "Датасет текстів і міток(оцінка користувачів від 1 до 5):"
      ]
    },
    {
      "cell_type": "code",
      "metadata": {
        "colab": {
          "base_uri": "https://localhost:8080/",
          "height": 417
        },
        "id": "0uQPTTXfC2BS",
        "outputId": "72f536c9-b145-4b62-ed9a-81cb520af161"
      },
      "source": [
        "df = pd.read_csv('APPLE_iPhone_SE.csv', encoding='utf8')\n",
        "df = df[[\"Ratings\", \"Reviews\"]].dropna()\n",
        "df"
      ],
      "execution_count": 6,
      "outputs": [
        {
          "output_type": "execute_result",
          "data": {
            "text/html": [
              "<div>\n",
              "<style scoped>\n",
              "    .dataframe tbody tr th:only-of-type {\n",
              "        vertical-align: middle;\n",
              "    }\n",
              "\n",
              "    .dataframe tbody tr th {\n",
              "        vertical-align: top;\n",
              "    }\n",
              "\n",
              "    .dataframe thead th {\n",
              "        text-align: right;\n",
              "    }\n",
              "</style>\n",
              "<table border=\"1\" class=\"dataframe\">\n",
              "  <thead>\n",
              "    <tr style=\"text-align: right;\">\n",
              "      <th></th>\n",
              "      <th>Ratings</th>\n",
              "      <th>Reviews</th>\n",
              "    </tr>\n",
              "  </thead>\n",
              "  <tbody>\n",
              "    <tr>\n",
              "      <th>0</th>\n",
              "      <td>5</td>\n",
              "      <td>Great camera for pics and videos Battery life ...</td>\n",
              "    </tr>\n",
              "    <tr>\n",
              "      <th>1</th>\n",
              "      <td>5</td>\n",
              "      <td>Great device. Let me tell the Pros..1. Superb ...</td>\n",
              "    </tr>\n",
              "    <tr>\n",
              "      <th>2</th>\n",
              "      <td>5</td>\n",
              "      <td>Who all loves older size i.e., 4.7 inch type s...</td>\n",
              "    </tr>\n",
              "    <tr>\n",
              "      <th>3</th>\n",
              "      <td>5</td>\n",
              "      <td>This iPhone SE is the best phone ever you get....</td>\n",
              "    </tr>\n",
              "    <tr>\n",
              "      <th>4</th>\n",
              "      <td>5</td>\n",
              "      <td>This is my second iphone after iphone 4s. I’ve...</td>\n",
              "    </tr>\n",
              "    <tr>\n",
              "      <th>...</th>\n",
              "      <td>...</td>\n",
              "      <td>...</td>\n",
              "    </tr>\n",
              "    <tr>\n",
              "      <th>9708</th>\n",
              "      <td>5</td>\n",
              "      <td>Absolutely brilliantREAD MORE</td>\n",
              "    </tr>\n",
              "    <tr>\n",
              "      <th>9709</th>\n",
              "      <td>5</td>\n",
              "      <td>Superb phone. This is my 4th iPhone, I feel SE...</td>\n",
              "    </tr>\n",
              "    <tr>\n",
              "      <th>9710</th>\n",
              "      <td>5</td>\n",
              "      <td>very niceREAD MORE</td>\n",
              "    </tr>\n",
              "    <tr>\n",
              "      <th>9711</th>\n",
              "      <td>5</td>\n",
              "      <td>Loving it as of now. Good Product .READ MORE</td>\n",
              "    </tr>\n",
              "    <tr>\n",
              "      <th>9712</th>\n",
              "      <td>5</td>\n",
              "      <td>NiceElegant ElectricREAD MORE</td>\n",
              "    </tr>\n",
              "  </tbody>\n",
              "</table>\n",
              "<p>9713 rows × 2 columns</p>\n",
              "</div>"
            ],
            "text/plain": [
              "      Ratings                                            Reviews\n",
              "0           5  Great camera for pics and videos Battery life ...\n",
              "1           5  Great device. Let me tell the Pros..1. Superb ...\n",
              "2           5  Who all loves older size i.e., 4.7 inch type s...\n",
              "3           5  This iPhone SE is the best phone ever you get....\n",
              "4           5  This is my second iphone after iphone 4s. I’ve...\n",
              "...       ...                                                ...\n",
              "9708        5                      Absolutely brilliantREAD MORE\n",
              "9709        5  Superb phone. This is my 4th iPhone, I feel SE...\n",
              "9710        5                                 very niceREAD MORE\n",
              "9711        5       Loving it as of now. Good Product .READ MORE\n",
              "9712        5                      NiceElegant ElectricREAD MORE\n",
              "\n",
              "[9713 rows x 2 columns]"
            ]
          },
          "metadata": {},
          "execution_count": 6
        }
      ]
    },
    {
      "cell_type": "code",
      "metadata": {
        "id": "mdG64u36D7bz"
      },
      "source": [
        "df1 = df[\"Ratings\"]\n",
        "df2 = df[\"Reviews\"]"
      ],
      "execution_count": 43,
      "outputs": []
    },
    {
      "cell_type": "markdown",
      "metadata": {
        "id": "AySg8TyVWeuw"
      },
      "source": [
        "Підготовка даних:"
      ]
    },
    {
      "cell_type": "code",
      "metadata": {
        "id": "NgA2AYNzEceQ"
      },
      "source": [
        "arr = []\n",
        "for i in df2:\n",
        "    lst = all(i)\n",
        "    arr.append(lst)"
      ],
      "execution_count": 10,
      "outputs": []
    },
    {
      "cell_type": "code",
      "metadata": {
        "id": "CltypmPsFTd-"
      },
      "source": [
        "arr1 = [' '.join(i) for i in arr]"
      ],
      "execution_count": 12,
      "outputs": []
    },
    {
      "cell_type": "markdown",
      "metadata": {
        "id": "cAzrTAVlWkPd"
      },
      "source": [
        "Модель енкодера\n",
        "Завантаження:"
      ]
    },
    {
      "cell_type": "code",
      "metadata": {
        "id": "xh0J4E5xFexc"
      },
      "source": [
        "embed = hub.load(\"https://tfhub.dev/google/universal-sentence-encoder/4\")"
      ],
      "execution_count": 44,
      "outputs": []
    },
    {
      "cell_type": "markdown",
      "metadata": {
        "id": "lWq0JLU9Ww5d"
      },
      "source": [
        "Перетворення текстів на вектори:"
      ]
    },
    {
      "cell_type": "code",
      "metadata": {
        "id": "Zpuj1QxDFm79"
      },
      "source": [
        "message_embeddings = embed(arr1)"
      ],
      "execution_count": 14,
      "outputs": []
    },
    {
      "cell_type": "markdown",
      "metadata": {
        "id": "p4cyFU3oWzwR"
      },
      "source": [
        "Розбиття датасету:"
      ]
    },
    {
      "cell_type": "code",
      "metadata": {
        "id": "foz2N4fiFqgL"
      },
      "source": [
        "X_train, X_test, Y_train, Y_test = train_test_split(np.array(message_embeddings),np.array(df1), test_size=0.2)"
      ],
      "execution_count": 18,
      "outputs": []
    },
    {
      "cell_type": "markdown",
      "metadata": {
        "id": "N1pP5qgRW4Hj"
      },
      "source": [
        "Модель класифікації на основі логістичної регресії:"
      ]
    },
    {
      "cell_type": "code",
      "metadata": {
        "id": "ndYoeYWXF1-V"
      },
      "source": [
        "clf = LogisticRegression(random_state=0).fit(X_train, Y_train)"
      ],
      "execution_count": null,
      "outputs": []
    },
    {
      "cell_type": "markdown",
      "metadata": {
        "id": "W323FafhXHNb"
      },
      "source": [
        "Класифікаця тестового набору"
      ]
    },
    {
      "cell_type": "code",
      "metadata": {
        "id": "hnIjCT_eG7Cn"
      },
      "source": [
        "pre = clf.predict(X_test)"
      ],
      "execution_count": 25,
      "outputs": []
    },
    {
      "cell_type": "markdown",
      "metadata": {
        "id": "X_DCr8qOXEXX"
      },
      "source": [
        "Метрика повноти:"
      ]
    },
    {
      "cell_type": "code",
      "metadata": {
        "colab": {
          "base_uri": "https://localhost:8080/"
        },
        "id": "038G1-qhHJUO",
        "outputId": "1cee3f49-5e66-4a9e-a120-04d5d1be741e"
      },
      "source": [
        "rs_ = recall_score(Y_test, pre,  average='weighted')\n",
        "rs_"
      ],
      "execution_count": 63,
      "outputs": [
        {
          "output_type": "execute_result",
          "data": {
            "text/plain": [
              "0.6891405043746783"
            ]
          },
          "metadata": {},
          "execution_count": 63
        }
      ]
    },
    {
      "cell_type": "markdown",
      "metadata": {
        "id": "6W0y6GYcXtDY"
      },
      "source": [
        "Метрика точності:"
      ]
    },
    {
      "cell_type": "code",
      "metadata": {
        "colab": {
          "base_uri": "https://localhost:8080/"
        },
        "id": "WS6aeh1zHmWL",
        "outputId": "8cc239f0-51a5-4e9b-8ecd-3050c987d303"
      },
      "source": [
        "as_ = accuracy_score(Y_test, pre)\n",
        "as_"
      ],
      "execution_count": 64,
      "outputs": [
        {
          "output_type": "execute_result",
          "data": {
            "text/plain": [
              "0.6891405043746783"
            ]
          },
          "metadata": {},
          "execution_count": 64
        }
      ]
    },
    {
      "cell_type": "markdown",
      "metadata": {
        "id": "oGRBGKC1X7F0"
      },
      "source": [
        "Коефіціент кореляції Метьюза:"
      ]
    },
    {
      "cell_type": "code",
      "metadata": {
        "colab": {
          "base_uri": "https://localhost:8080/"
        },
        "id": "FxUQAgJ4HqGI",
        "outputId": "50834b03-bc03-4112-833a-5d71f20edf86"
      },
      "source": [
        "mc_ = matthews_corrcoef(Y_test, pre)\n",
        "mc_"
      ],
      "execution_count": 65,
      "outputs": [
        {
          "output_type": "execute_result",
          "data": {
            "text/plain": [
              "0.20691364935858622"
            ]
          },
          "metadata": {},
          "execution_count": 65
        }
      ]
    },
    {
      "cell_type": "markdown",
      "metadata": {
        "id": "U1S_I2rlYCnU"
      },
      "source": [
        "Точність:"
      ]
    },
    {
      "cell_type": "code",
      "metadata": {
        "id": "7__D-z70ICTN"
      },
      "source": [
        "ps_ = precision_score(pre, Y_test, average='micro')"
      ],
      "execution_count": 66,
      "outputs": []
    },
    {
      "cell_type": "markdown",
      "metadata": {
        "id": "toE4F1L-YQ0r"
      },
      "source": [
        "Матриця похибок:"
      ]
    },
    {
      "cell_type": "code",
      "metadata": {
        "colab": {
          "base_uri": "https://localhost:8080/"
        },
        "id": "_oWuDd_gLy7O",
        "outputId": "bd537b47-3a8c-4931-9d9d-b4fe15b5e913"
      },
      "source": [
        "confusion_matrix(Y_test, pre)"
      ],
      "execution_count": 67,
      "outputs": [
        {
          "output_type": "execute_result",
          "data": {
            "text/plain": [
              "array([[  29,    0,    7,    7,   58],\n",
              "       [  12,    1,    1,    5,   25],\n",
              "       [   9,    1,    5,    9,   80],\n",
              "       [   7,    1,    2,   20,  349],\n",
              "       [   5,    0,    8,   18, 1284]])"
            ]
          },
          "metadata": {},
          "execution_count": 67
        }
      ]
    },
    {
      "cell_type": "markdown",
      "metadata": {
        "id": "nNGWH9zGYjr1"
      },
      "source": [
        "Запис в файли:"
      ]
    },
    {
      "cell_type": "code",
      "metadata": {
        "id": "RgJBxLKIPAL1"
      },
      "source": [
        "import csv\n",
        "\n",
        "with open('output.csv', 'w', encoding='UTF8', newline='') as fw:\n",
        "    writer = csv.writer(fw)\n",
        "    writer.writerow(['id_text', 'class'])\n",
        "    for i, val in enumerate(pre):\n",
        "        writer.writerow([i, val])"
      ],
      "execution_count": 61,
      "outputs": []
    },
    {
      "cell_type": "code",
      "metadata": {
        "id": "z25ln071UZWp"
      },
      "source": [
        "with open('metrics.txt', 'w', encoding='utf-8') as fw:\n",
        "    fw.write(\"Accuracy = \" + str(as_) + \"\\nPrecision = \" + str(ps_) + \n",
        "             \"\\nRecall = \" + str(rs_) + \"\\nMatthews Correlation Coefficient = \" + str(mc_))"
      ],
      "execution_count": 68,
      "outputs": []
    }
  ]
}
